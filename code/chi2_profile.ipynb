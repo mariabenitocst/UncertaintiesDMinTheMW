{
 "cells": [
  {
   "cell_type": "markdown",
   "metadata": {},
   "source": [
    "# Compute $\\chi^2$ profile for J-factor at given ROI\n",
    "## Takes as input jfactorgrid_gammaXX.dat (output from c++ code in Jfactor folder)"
   ]
  },
  {
   "cell_type": "code",
   "execution_count": 14,
   "metadata": {},
   "outputs": [
    {
     "name": "stdout",
     "output_type": "stream",
     "text": [
      "Using matplotlib backend: TkAgg\n"
     ]
    }
   ],
   "source": [
    "from __future__ import division\n",
    "import numpy as np\n",
    "import scipy.stats\n",
    "import matplotlib.pyplot as plt\n",
    "%matplotlib"
   ]
  },
  {
   "cell_type": "code",
   "execution_count": 2,
   "metadata": {
    "collapsed": true
   },
   "outputs": [],
   "source": [
    "from matplotlib import rc\n",
    "rc('font', family='times new roman', size=22)\n",
    "rc('text', usetex=True)"
   ]
  },
  {
   "cell_type": "markdown",
   "metadata": {},
   "source": [
    "### Load J-factor grid"
   ]
  },
  {
   "cell_type": "code",
   "execution_count": 116,
   "metadata": {},
   "outputs": [
    {
     "name": "stdout",
     "output_type": "stream",
     "text": [
      "0.1\n",
      "0.2\n",
      "0.3\n",
      "0.4\n",
      "0.5\n",
      "0.6\n",
      "0.7\n",
      "0.8\n",
      "0.9\n",
      "1.0\n",
      "1.1\n",
      "1.2\n",
      "1.3\n",
      "1.4\n",
      "1.5\n"
     ]
    }
   ],
   "source": [
    "# Path J-factor grid (jactorgrid_gammaXX.dat)\n",
    "filepath = \"./Jfactor/spherical_ROI/\"\n",
    "# Inner DM slope\n",
    "gamma    = [0.1, 0.2, 0.3, 0.4, 0.5, 0.6, 0.7, 0.8, 0.9, 1.0, 1.1, 1.2, 1.3, 1.4, 1.5]\n",
    "chi2     = []\n",
    "logJ     = []\n",
    "for g in gamma:\n",
    "    print g\n",
    "    data = np.genfromtxt(filepath + (\"jfactorgrid_gamma%.1f.dat\" %g), unpack=True)\n",
    "    for i in range(len(data[0])):\n",
    "        if data[1][i] != 0:\n",
    "            chi2.append(data[0][i])\n",
    "            logJ.append(np.log10(data[1][i]))\n",
    "chi2 = np.array(chi2)\n",
    "logJ = np.array(logJ)"
   ]
  },
  {
   "cell_type": "markdown",
   "metadata": {},
   "source": [
    "### $\\mathcal{J}$-factor vs. $\\chi^2$"
   ]
  },
  {
   "cell_type": "code",
   "execution_count": 92,
   "metadata": {
    "collapsed": true
   },
   "outputs": [],
   "source": [
    "def bin_in_logJ(logJ, chi, nbins):\n",
    "    logJ_edges = np.linspace(min(logJ), min(logJ)+8, nbins)\n",
    "    logJbin = []\n",
    "    chibin  = []\n",
    "    for i in range(len(logJ_edges)-1):\n",
    "        pos_bin = np.where((logJ >= logJ_edges[i]) & (logJ <= logJ_edges[i+1]))\n",
    "        chibin.append(np.min(chi[pos_bin]))\n",
    "        logJbin.append((logJ_edges[i+1] + logJ_edges[i])/2.)\n",
    "    return np.array(logJbin), np.array(chibin)"
   ]
  },
  {
   "cell_type": "code",
   "execution_count": 117,
   "metadata": {},
   "outputs": [],
   "source": [
    "logJbin, chi2bin = bin_in_logJ(logJ, chi2, 100)"
   ]
  },
  {
   "cell_type": "code",
   "execution_count": 118,
   "metadata": {},
   "outputs": [],
   "source": [
    "# Plot chi2 grid\n",
    "fig, ax = plt.subplots()\n",
    "ax.plot(logJbin, chi2bin)\n",
    "ax.set_yscale(\"log\")"
   ]
  },
  {
   "cell_type": "markdown",
   "metadata": {},
   "source": [
    "### Find $\\mathcal{J}_{BF}$ (i.e. $\\mathcal{J}$ with minimum $\\chi^2$) and $\\mathcal{J}_{min, max}$ (i.e. minimum and maximum $\\mathcal{J}$ that satisfy $\\chi^2 \\leq \\chi^2_{BF}+\\Delta\\chi^2$)\n",
    "\n",
    "where $\\Delta\\chi^2$ is the 1, 2$\\sigma$ $\\chi^2$ corresponding to 1 or 2 d.o.f."
   ]
  },
  {
   "cell_type": "code",
   "execution_count": 119,
   "metadata": {},
   "outputs": [
    {
     "name": "stdout",
     "output_type": "stream",
     "text": [
      "0.9999999999999881 4.000000000000001\n"
     ]
    }
   ],
   "source": [
    "dof   = 1\n",
    "sigma = 1\n",
    "ci    = scipy.stats.chi2.cdf(sigma**2, 1)\n",
    "chi2_1sigma = scipy.stats.chi2.ppf(ci, dof)\n",
    "sigma = 2\n",
    "ci    = scipy.stats.chi2.cdf(sigma**2, 1)\n",
    "chi2_2sigma = scipy.stats.chi2.ppf(ci, dof)\n",
    "print chi2_1sigma, chi2_2sigma"
   ]
  },
  {
   "cell_type": "code",
   "execution_count": 120,
   "metadata": {},
   "outputs": [
    {
     "name": "stdout",
     "output_type": "stream",
     "text": [
      "1.25e+22\n",
      "Jmin = 8.59e+21 and Jmax = 6.65e+22\n"
     ]
    }
   ],
   "source": [
    "j_bf    = 10**logJbin[np.argmin(chi2bin)]\n",
    "chi2_bf = chi2bin[np.argmin(chi2bin)]\n",
    "print (\"%.2e\" %j_bf)\n",
    "pos   = np.where(chi2bin <= (chi2_bf + chi2_1sigma))\n",
    "j_min = 10**np.min(logJbin[pos])\n",
    "j_max = 10**np.max(logJbin[pos[0]])\n",
    "print (\"Jmin = %.2e and Jmax = %.2e\" %(j_min, j_max))"
   ]
  },
  {
   "cell_type": "code",
   "execution_count": null,
   "metadata": {
    "collapsed": true
   },
   "outputs": [],
   "source": []
  }
 ],
 "metadata": {
  "kernelspec": {
   "display_name": "Python 2",
   "language": "python",
   "name": "python2"
  },
  "language_info": {
   "codemirror_mode": {
    "name": "ipython",
    "version": 2
   },
   "file_extension": ".py",
   "mimetype": "text/x-python",
   "name": "python",
   "nbconvert_exporter": "python",
   "pygments_lexer": "ipython2",
   "version": "2.7.13"
  }
 },
 "nbformat": 4,
 "nbformat_minor": 2
}
